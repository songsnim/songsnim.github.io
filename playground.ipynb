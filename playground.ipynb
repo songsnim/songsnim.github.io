{
 "cells": [
  {
   "cell_type": "code",
   "execution_count": 8,
   "metadata": {},
   "outputs": [
    {
     "name": "stdout",
     "output_type": "stream",
     "text": [
      "height_of_jane = 164\n",
      "height_of_tom = 180\n",
      "height_of_mike = 176\n",
      "height_of_chris = 189\n"
     ]
    }
   ],
   "source": [
    "names = ['jane', 'tom', 'mike', 'chris']\n",
    "heights = [164, 180, 176, 189]\n",
    "for name, height in zip(names, heights):\n",
    "    globals()[f'height_of_{name}'] = height\n",
    "\n",
    "for var in list(vars().keys()):\n",
    "    if 'height_' in var:\n",
    "        print(f\"{var} = {vars()[var]}\")"
   ]
  },
  {
   "cell_type": "code",
   "execution_count": 7,
   "metadata": {},
   "outputs": [
    {
     "name": "stdout",
     "output_type": "stream",
     "text": [
      "height_of_jane = 164\n",
      "height_of_tom = 180\n",
      "height_of_mike = 176\n",
      "height_of_chris = 189\n"
     ]
    }
   ],
   "source": [
    "for var in list(vars().keys()):\n",
    "    if 'height_' in var:\n",
    "        print(f\"{var} = {vars()[var]}\")"
   ]
  },
  {
   "cell_type": "code",
   "execution_count": 2,
   "metadata": {},
   "outputs": [
    {
     "name": "stdout",
     "output_type": "stream",
     "text": [
      "5\n",
      "4 [1, 2, 3, 5]\n"
     ]
    }
   ],
   "source": [
    "arr = [1,2,3,4,5]\n",
    "print(len(arr))\n",
    "arr.pop(3)\n",
    "print(len(arr), arr)"
   ]
  },
  {
   "cell_type": "code",
   "execution_count": null,
   "metadata": {},
   "outputs": [],
   "source": []
  }
 ],
 "metadata": {
  "kernelspec": {
   "display_name": "ML",
   "language": "python",
   "name": "python3"
  },
  "language_info": {
   "codemirror_mode": {
    "name": "ipython",
    "version": 3
   },
   "file_extension": ".py",
   "mimetype": "text/x-python",
   "name": "python",
   "nbconvert_exporter": "python",
   "pygments_lexer": "ipython3",
   "version": "3.9.12"
  },
  "orig_nbformat": 4
 },
 "nbformat": 4,
 "nbformat_minor": 2
}
