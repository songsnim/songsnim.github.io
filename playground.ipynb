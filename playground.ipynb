{
 "cells": [
  {
   "cell_type": "code",
   "execution_count": 1,
   "metadata": {},
   "outputs": [
    {
     "name": "stderr",
     "output_type": "stream",
     "text": [
      "/opt/homebrew/anaconda3/envs/ML/lib/python3.9/site-packages/tqdm/auto.py:22: TqdmWarning: IProgress not found. Please update jupyter and ipywidgets. See https://ipywidgets.readthedocs.io/en/stable/user_install.html\n",
      "  from .autonotebook import tqdm as notebook_tqdm\n"
     ]
    }
   ],
   "source": [
    "import torch\n",
    "\n",
    "import torch.nn as nn\n",
    "\n",
    "# dfasdf\n",
    "\n",
    "\n",
    "b_size = 64\n",
    "code_size = 512\n",
    "\n",
    "gen_in11, gen_in12, gen_in21, gen_in22 = torch.randn(4, b_size, code_size).chunk(4, 0)\n",
    "\n",
    "gen_in1 = [gen_in11.squeeze(0), gen_in12.squeeze(0)]\n",
    "gen_in2 = [gen_in21.squeeze(0), gen_in22.squeeze(0)]      \n"
   ]
  },
  {
   "cell_type": "code",
   "execution_count": 12,
   "metadata": {},
   "outputs": [
    {
     "data": {
      "text/plain": [
       "[4, 7]"
      ]
     },
     "execution_count": 12,
     "metadata": {},
     "output_type": "execute_result"
    }
   ],
   "source": [
    "import random\n",
    "step = 8\n",
    "random.sample(list(range(step)), 2)"
   ]
  },
  {
   "cell_type": "code",
   "execution_count": 6,
   "metadata": {},
   "outputs": [
    {
     "data": {
      "text/plain": [
       "torch.Size([32, 512, 64, 64])"
      ]
     },
     "execution_count": 6,
     "metadata": {},
     "output_type": "execute_result"
    }
   ],
   "source": [
    "import torch\n",
    "\n",
    "image = torch.ones(32,512,64,64)\n",
    "weight = torch.ones(1,512,1,1)\n",
    "\n",
    "noise = torch.zeros(32,1,64,64)\n",
    "\n",
    "injection = weight*noise\n",
    "injection.shape"
   ]
  },
  {
   "cell_type": "code",
   "execution_count": 1,
   "metadata": {},
   "outputs": [
    {
     "name": "stdout",
     "output_type": "stream",
     "text": [
      "Arr is too long (11 elements, expected <= 10)\n",
      "Arr is too long (11 elements, expected <= 10)\n",
      "Arr is too long (11 elements, expected <= 10)\n"
     ]
    }
   ],
   "source": [
    "arr = [x for x in range(11)]\n",
    "\n",
    "if len(arr) > 10:\n",
    "    print(f\"Arr is too long ({len(arr)} elements, expected <= 10)\")\n",
    "else:\n",
    "    print(f\"Our arr is fine ({len(arr)} elements, expected <= 10)\")\n",
    "\n",
    "n = len(arr)\n",
    "if n > 10:\n",
    "    print(f\"Arr is too long ({n} elements, expected <= 10)\")\n",
    "else:\n",
    "    print(f\"Our arr is fine ({n} elements, expected <= 10)\")\n",
    "\n",
    "if (n := len(arr)) > 10:\n",
    "    print(f\"Arr is too long ({n} elements, expected <= 10)\")\n",
    "else:\n",
    "    print(f\"Our arr is fine ({n} elements, expected <= 10)\")"
   ]
  },
  {
   "cell_type": "code",
   "execution_count": 5,
   "metadata": {},
   "outputs": [
    {
     "name": "stdout",
     "output_type": "stream",
     "text": [
      "0.2\n"
     ]
    }
   ],
   "source": [
    "import re\n",
    "advertisement = 'Get 20% discount on all products'\n",
    "\n",
    "if (discount := re.search(r'(\\d+)% discount', advertisement)):\n",
    "    discount_rate = float(discount.group(1)) / 100.0\n",
    "    print(discount_rate)"
   ]
  },
  {
   "cell_type": "code",
   "execution_count": null,
   "metadata": {},
   "outputs": [],
   "source": [
    "advertisement = 'Get 20% discount on all products'\n",
    "\n",
    "discount = re.search(r'(\\d+)% discount', advertisement)\n",
    "if discount:\n",
    "    discount_rate = float(discount.group(1)) / 100.0\n",
    "    print(discount_rate)"
   ]
  },
  {
   "cell_type": "code",
   "execution_count": 14,
   "metadata": {},
   "outputs": [
    {
     "name": "stdout",
     "output_type": "stream",
     "text": [
      "x = 9\n",
      "x = 8\n",
      "x = 7\n",
      "x = 6\n",
      "x = 5\n",
      "x = 4\n",
      "x = 3\n",
      "x = 2\n",
      "x = 1\n",
      "x = 0\n"
     ]
    }
   ],
   "source": [
    "x = 10\n",
    "\n",
    "while x > 0:\n",
    "    x -= 1\n",
    "    \n",
    "        "
   ]
  },
  {
   "cell_type": "code",
   "execution_count": 26,
   "metadata": {},
   "outputs": [
    {
     "name": "stdout",
     "output_type": "stream",
     "text": [
      "-2\n"
     ]
    }
   ],
   "source": [
    "\n",
    "x = 10\n",
    "while (x := x - arr.pop(0)) > 0:\n",
    "    \"\"\" \n",
    "    \n",
    "    Do something\n",
    "    \n",
    "    \"\"\"\n",
    "\n",
    "print(x)"
   ]
  },
  {
   "cell_type": "code",
   "execution_count": 73,
   "metadata": {},
   "outputs": [
    {
     "name": "stdout",
     "output_type": "stream",
     "text": [
      "['Johnson', 'Christina']\n"
     ]
    }
   ],
   "source": [
    "visitors = ['John', 'Smith', 'Isabella', 'Mike', 'Chris', 'Duncan']\n",
    "invited = ['Evangeline', 'Johnson', 'Christina']\n",
    "\n",
    "def full(name):\n",
    "    if name == 'John':\n",
    "        return 'Johnson'\n",
    "    elif name == 'Chris':\n",
    "        return 'Christina' \n",
    "    elif name == 'Mike':\n",
    "        return 'Michael'\n",
    "\n",
    "# \n",
    "print([full_name for name in visitors\n",
    "        if (full_name := full(name)) in invited])"
   ]
  },
  {
   "cell_type": "code",
   "execution_count": 82,
   "metadata": {},
   "outputs": [
    {
     "name": "stdout",
     "output_type": "stream",
     "text": [
      "[4, 4, 4, 4] 3\n"
     ]
    }
   ],
   "source": [
    "land = [[1,2,3,4]]\n",
    "\n",
    "answer = [max(land[0])]*4\n",
    "alter_i = land[0].index(max(land[0]))\n",
    "\n",
    "print(answer, alter_i)\n",
    "\n"
   ]
  },
  {
   "cell_type": "code",
   "execution_count": 47,
   "metadata": {},
   "outputs": [
    {
     "data": {
      "text/plain": [
       "[1, 4, 9, 1, 9]"
      ]
     },
     "execution_count": 47,
     "metadata": {},
     "output_type": "execute_result"
    }
   ],
   "source": [
    "\n",
    "arr = [2, 3, 6, 10, 14, 24, 30, ]\n",
    "\n",
    "# arr 내 6의 배수가 아닌 숫자들을 6으로 나눈 나머지에서 1을 빼고 제곱한 수를 담은 list\n",
    "\n",
    "[(remainder-1)**2 for num in arr if (remainder := num % 6) > 0]\n",
    "\n"
   ]
  },
  {
   "cell_type": "code",
   "execution_count": null,
   "metadata": {},
   "outputs": [],
   "source": []
  }
 ],
 "metadata": {
  "kernelspec": {
   "display_name": "ML",
   "language": "python",
   "name": "python3"
  },
  "language_info": {
   "codemirror_mode": {
    "name": "ipython",
    "version": 3
   },
   "file_extension": ".py",
   "mimetype": "text/x-python",
   "name": "python",
   "nbconvert_exporter": "python",
   "pygments_lexer": "ipython3",
   "version": "3.9.12"
  },
  "orig_nbformat": 4
 },
 "nbformat": 4,
 "nbformat_minor": 2
}
